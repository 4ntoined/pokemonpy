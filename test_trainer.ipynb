{
 "cells": [
  {
   "cell_type": "code",
   "execution_count": 16,
   "id": "c29cf812",
   "metadata": {},
   "outputs": [],
   "source": [
    "from base_pokemon import *\n",
    "from trainerai import *"
   ]
  },
  {
   "cell_type": "code",
   "execution_count": 23,
   "id": "807fd72a",
   "metadata": {},
   "outputs": [],
   "source": [
    "p,f = maker(2,6,2)\n",
    "p1,p2 = p\n",
    "f1,f2 = f\n",
    "batt = battle(p1,p2,f1)\n",
    "redd = cpu(batt)"
   ]
  },
  {
   "cell_type": "code",
   "execution_count": 25,
   "id": "c76302eb",
   "metadata": {
    "collapsed": true
   },
   "outputs": [
    {
     "name": "stdout",
     "output_type": "stream",
     "text": [
      "\n",
      "////////////////////////////////////////////////////////////////\n",
      "//////////////////////// Party Pokémon /////////////////////////\n",
      "////////////////////////////////////////////////////////////////\n",
      "[1] Mudsdale \tLv. 100 \tHP: 100.00% \tGround\n",
      "[2] Grimmsnarl \tLv. 100 \tHP: 100.00% \tDark // Fairy\n",
      "[3] Blaziken \tLv. 100 \tHP: 100.00% \tFire // Fighting\n",
      "[4] Staravia \tLv. 100 \tHP: 100.00% \tNormal // Flying\n",
      "[5] Corsola \tLv. 100 \tHP: 100.00% \tWater // Rock\n",
      "[6] Arrokuda \tLv. 100 \tHP: 100.00% \tWater\n",
      "\n",
      "////////////////////////////////////////////////////////////////\n",
      "\n",
      "////////////////////////////////////////////////////////////////\n",
      "//////////////////////// Party Pokémon /////////////////////////\n",
      "////////////////////////////////////////////////////////////////\n",
      "[1] Durant \tLv. 100 \tHP: 100.00% \tBug // Steel\n",
      "[2] Horsea \tLv. 100 \tHP: 100.00% \tWater\n",
      "[3] Gyarados \tLv. 100 \tHP: 100.00% \tWater // Flying\n",
      "[4] Gastrodon \tLv. 100 \tHP: 100.00% \tWater // Ground\n",
      "[5] Kartana \tLv. 100 \tHP: 100.00% \tGrass // Steel\n",
      "[6] Noivern \tLv. 100 \tHP: 100.00% \tFlying // Dragon\n",
      "\n",
      "////////////////////////////////////////////////////////////////\n"
     ]
    }
   ],
   "source": [
    "print_party(p1)\n",
    "print_party(p2)"
   ]
  },
  {
   "cell_type": "code",
   "execution_count": 22,
   "id": "c806d3e8",
   "metadata": {},
   "outputs": [
    {
     "data": {
      "text/plain": [
       "'saved'"
      ]
     },
     "execution_count": 22,
     "metadata": {},
     "output_type": "execute_result"
    }
   ],
   "source": []
  },
  {
   "cell_type": "code",
   "execution_count": null,
   "id": "37850d2f",
   "metadata": {},
   "outputs": [],
   "source": []
  }
 ],
 "metadata": {
  "kernelspec": {
   "display_name": "Python 3 (ipykernel)",
   "language": "python",
   "name": "python3"
  },
  "language_info": {
   "codemirror_mode": {
    "name": "ipython",
    "version": 3
   },
   "file_extension": ".py",
   "mimetype": "text/x-python",
   "name": "python",
   "nbconvert_exporter": "python",
   "pygments_lexer": "ipython3",
   "version": "3.10.6"
  }
 },
 "nbformat": 4,
 "nbformat_minor": 5
}
