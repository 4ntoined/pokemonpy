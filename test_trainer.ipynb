{
 "cells": [
  {
   "cell_type": "code",
   "execution_count": 38,
   "id": "c29cf812",
   "metadata": {},
   "outputs": [],
   "source": [
    "from base_pokemon import *\n",
    "from trainerai import *\n",
    "from moves import mov"
   ]
  },
  {
   "cell_type": "code",
   "execution_count": 2,
   "id": "807fd72a",
   "metadata": {},
   "outputs": [],
   "source": [
    "p,f = maker(2,6,2)\n",
    "p1,p2 = p\n",
    "f1,f2 = f\n",
    "batt = battle(p1,p2,f1)\n",
    "redd = cpu(batt)"
   ]
  },
  {
   "cell_type": "code",
   "execution_count": 3,
   "id": "712137e4",
   "metadata": {},
   "outputs": [
    {
     "name": "stdout",
     "output_type": "stream",
     "text": [
      "\n",
      "////////////////////////////////////////////////////////////////\n",
      "//////////////////////// Party Pokémon /////////////////////////\n",
      "////////////////////////////////////////////////////////////////\n",
      "[1] Regice \tLv. 100 \tHP: 100.00% \tIce\n",
      "[2] Impidimp \tLv. 100 \tHP: 100.00% \tDark // Fairy\n",
      "[3] Weedle \tLv. 100 \tHP: 100.00% \tBug // Poison\n",
      "[4] Carnivine \tLv. 100 \tHP: 100.00% \tGrass\n",
      "[5] Weavile \tLv. 100 \tHP: 100.00% \tDark // Ice\n",
      "[6] Lapras \tLv. 100 \tHP: 100.00% \tWater // Ice\n",
      "\n",
      "////////////////////////////////////////////////////////////////\n",
      "\n",
      "////////////////////////////////////////////////////////////////\n",
      "//////////////////////// Party Pokémon /////////////////////////\n",
      "////////////////////////////////////////////////////////////////\n",
      "[1] Bellsprout \tLv. 100 \tHP: 100.00% \tGrass // Poison\n",
      "[2] Melmetal \tLv. 100 \tHP: 100.00% \tSteel\n",
      "[3] Typhlosion \tLv. 100 \tHP: 100.00% \tFire\n",
      "[4] Poliwag \tLv. 100 \tHP: 100.00% \tWater\n",
      "[5] Sylveon \tLv. 100 \tHP: 100.00% \tFairy\n",
      "[6] Slugma \tLv. 100 \tHP: 100.00% \tFire\n",
      "\n",
      "////////////////////////////////////////////////////////////////\n"
     ]
    }
   ],
   "source": [
    "print_party(p1)\n",
    "print_party(p2)"
   ]
  },
  {
   "cell_type": "code",
   "execution_count": 22,
   "id": "5e43a7dd",
   "metadata": {},
   "outputs": [
    {
     "name": "stdout",
     "output_type": "stream",
     "text": [
      "fight fight switch switch switch fight switch fight fight fight switch switch fight fight switch fight fight fight fight fight fight switch fight switch fight switch fight switch fight fight switch fight switch fight switch fight switch fight switch switch fight switch switch switch switch fight fight switch fight switch \n",
      "27\n",
      "23\n"
     ]
    }
   ],
   "source": [
    "p2[0].currenthpp = 15\n",
    "f, s = 0,0\n",
    "for i in range(50):\n",
    "    do = redd.fightswitch()\n",
    "    if do=='fight': f+=1\n",
    "    elif do=='switch': s+=1\n",
    "    print(do,end=' ')\n",
    "print(\"\")\n",
    "print(f)\n",
    "print(s)"
   ]
  },
  {
   "cell_type": "code",
   "execution_count": 4,
   "id": "9deaf0f1",
   "metadata": {},
   "outputs": [
    {
     "data": {
      "text/plain": [
       "2.0"
      ]
     },
     "execution_count": 4,
     "metadata": {},
     "output_type": "execute_result"
    }
   ],
   "source": [
    "redd.typeAdvantage()"
   ]
  },
  {
   "cell_type": "code",
   "execution_count": 28,
   "id": "bdb8774a",
   "metadata": {},
   "outputs": [
    {
     "name": "stdout",
     "output_type": "stream",
     "text": [
      "\n",
      "##########################  Pupitar  ###########################\n",
      "\n",
      "Level 100 \tRock // Ground \t(F)\n",
      "Nature : Naive | Up - Spe, Down - SpD\n",
      "HP  : \t305.00/305.00 \t100.00%\n",
      "Atk : \t250.00\n",
      "Def : \t163.00\n",
      "Sp.A: \t163.00\n",
      "Sp.D: \t157.50\n",
      "Spe : \t145.20\n",
      "\n",
      "######################  Pupitar's Moves  #######################\n",
      "\n",
      "[1] Leaf Blade\tGrass\t15/15 PP\n",
      "[2] Quick Attack\tNormal\t30/30 PP\n",
      "[3] Draco Meteor\tDragon\t5/5 PP\n",
      "[4] Shadow Claw\tGhost\t15/15 PP\n",
      "[5] Shadow Force\tGhost\t5/5 PP\n",
      "[6] Dig\tGround\t10/10 PP\n",
      "\n",
      "################################################################\n",
      "This Pokémon was initialized on\n",
      "=== Thu 22 Jun 2023 @ 00:00:36 UTC\n",
      "=== In the MST timezone.\n",
      "=== It was randomized by Boxes!\n",
      "################################################################\n"
     ]
    }
   ],
   "source": [
    "p2[0].summary()"
   ]
  },
  {
   "cell_type": "code",
   "execution_count": 25,
   "id": "003cb841",
   "metadata": {},
   "outputs": [
    {
     "name": "stdout",
     "output_type": "stream",
     "text": [
      "0.0\n",
      "(0.0, [1.2, 1.0])\n",
      "\n",
      "120.0\n",
      "(144.0, [1.2, 1.0])\n",
      "\n",
      "30.0\n",
      "(36.0, [1.2, 1.0])\n",
      "\n",
      "110.0\n",
      "(171.6, [1.2, 1.3])\n",
      "\n",
      "80.0\n",
      "(124.80000000000001, [1.2, 1.3])\n",
      "\n",
      "40.0\n",
      "(62.400000000000006, [1.2, 1.3])\n",
      "\n"
     ]
    }
   ],
   "source": [
    "\n",
    "for i in range(len(p2[0].knownMoves)):\n",
    "    print(redd.powerRating(p2[0],p2[0].knownMoves[i],p1[0]))\n",
    "    print(redd.damageMoveRating(p2[0],p2[0].knownMoves[i],p1[0],debug=True))\n",
    "    print(\"\")"
   ]
  },
  {
   "cell_type": "code",
   "execution_count": 24,
   "id": "cbbc3963",
   "metadata": {},
   "outputs": [],
   "source": [
    "f1.lightscACounter=6\n",
    "f1.reflectACounter=0"
   ]
  },
  {
   "cell_type": "code",
   "execution_count": 30,
   "id": "ec6a87aa",
   "metadata": {},
   "outputs": [
    {
     "name": "stdout",
     "output_type": "stream",
     "text": [
      "Bellsprout\n"
     ]
    }
   ],
   "source": [
    "redd.test1()"
   ]
  },
  {
   "cell_type": "code",
   "execution_count": 53,
   "id": "e5bf9f09",
   "metadata": {},
   "outputs": [
    {
     "name": "stdout",
     "output_type": "stream",
     "text": [
      "\n",
      "###########################  Lapras  ###########################\n",
      "\n",
      "Level 100 \tWater // Ice \t(F)\n",
      "Nature : Modest | Up - SpA, Down - Atk\n",
      "HP  : \t433.00/433.00 \t100.00%\n",
      "Atk : \t211.50\n",
      "Def : \t196.00\n",
      "Sp.A: \t243.10\n",
      "Sp.D: \t230.00\n",
      "Spe : \t151.00\n",
      "\n",
      "#######################  Lapras's Moves  #######################\n",
      "\n",
      "[1] Mystical Fire\tFire\t10/10 PP\n",
      "[2] Storm Throw\tFighting\t10/10 PP\n",
      "[3] Gust\tFlying\t35/35 PP\n",
      "[4] Water Pulse\tWater\t20/20 PP\n",
      "[5] Brick Break\tFighting\t15/15 PP\n",
      "[6] Stomp\tNormal\t20/20 PP\n",
      "\n",
      "################################################################\n",
      "This Pokémon was initialized on\n",
      "=== Thu 22 Jun 2023 @ 16:38:19 UTC\n",
      "=== In the MST timezone.\n",
      "=== It was randomized by Boxes!\n",
      "################################################################\n"
     ]
    }
   ],
   "source": [
    "monn = p1[5]\n",
    "monn.summary()"
   ]
  },
  {
   "cell_type": "code",
   "execution_count": 54,
   "id": "80ed1f17",
   "metadata": {},
   "outputs": [
    {
     "name": "stdout",
     "output_type": "stream",
     "text": [
      "[1, 0, 1, 1, 0, 0]\n"
     ]
    }
   ],
   "source": [
    "she = [ mov[monn.knownMoves[i]]['special?'] for i in range(len(monn.knownMoves))]\n",
    "print(she)"
   ]
  },
  {
   "cell_type": "code",
   "execution_count": 58,
   "id": "6d109363",
   "metadata": {},
   "outputs": [
    {
     "name": "stdout",
     "output_type": "stream",
     "text": [
      "0\n"
     ]
    },
    {
     "data": {
      "text/plain": [
       "array([0, 1, 2, 3, 4, 5])"
      ]
     },
     "execution_count": 58,
     "metadata": {},
     "output_type": "execute_result"
    }
   ],
   "source": [
    "specials = mov[monn.knownMoves]['special?']\n",
    "speciali = np.argwhere(specials == 2)\n",
    "print(len(np.squeeze(speciali)))\n",
    "np.squeeze(np.argwhere(np.logical_or(specials==0,specials==1)))"
   ]
  },
  {
   "cell_type": "code",
   "execution_count": null,
   "id": "74498309",
   "metadata": {},
   "outputs": [],
   "source": []
  }
 ],
 "metadata": {
  "kernelspec": {
   "display_name": "Python 3 (ipykernel)",
   "language": "python",
   "name": "python3"
  },
  "language_info": {
   "codemirror_mode": {
    "name": "ipython",
    "version": 3
   },
   "file_extension": ".py",
   "mimetype": "text/x-python",
   "name": "python",
   "nbconvert_exporter": "python",
   "pygments_lexer": "ipython3",
   "version": "3.10.6"
  }
 },
 "nbformat": 4,
 "nbformat_minor": 5
}
