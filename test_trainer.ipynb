{
 "cells": [
  {
   "cell_type": "code",
   "execution_count": 1,
   "id": "c29cf812",
   "metadata": {},
   "outputs": [],
   "source": [
    "from base_pokemon import *\n",
    "from trainerai import *"
   ]
  },
  {
   "cell_type": "code",
   "execution_count": 26,
   "id": "807fd72a",
   "metadata": {},
   "outputs": [],
   "source": [
    "p,f = maker(2,6,2)\n",
    "p1,p2 = p\n",
    "f1,f2 = f\n",
    "batt = battle(p1,p2,f1)\n",
    "redd = cpu(batt)"
   ]
  },
  {
   "cell_type": "code",
   "execution_count": 27,
   "id": "712137e4",
   "metadata": {},
   "outputs": [
    {
     "name": "stdout",
     "output_type": "stream",
     "text": [
      "\n",
      "////////////////////////////////////////////////////////////////\n",
      "//////////////////////// Party Pokémon /////////////////////////\n",
      "////////////////////////////////////////////////////////////////\n",
      "[1] Regidrago \tLv. 100 \tHP: 100.00% \tDragon\n",
      "[2] Hoothoot \tLv. 100 \tHP: 100.00% \tNormal // Flying\n",
      "[3] Thievul \tLv. 100 \tHP: 100.00% \tDark\n",
      "[4] Noctowl \tLv. 100 \tHP: 100.00% \tNormal // Flying\n",
      "[5] Lickilicky \tLv. 100 \tHP: 100.00% \tNormal\n",
      "[6] Buzzwole \tLv. 100 \tHP: 100.00% \tBug // Fighting\n",
      "\n",
      "////////////////////////////////////////////////////////////////\n",
      "\n",
      "////////////////////////////////////////////////////////////////\n",
      "//////////////////////// Party Pokémon /////////////////////////\n",
      "////////////////////////////////////////////////////////////////\n",
      "[1] Pupitar \tLv. 100 \tHP: 100.00% \tRock // Ground\n",
      "[2] Staravia \tLv. 100 \tHP: 100.00% \tNormal // Flying\n",
      "[3] Drampa \tLv. 100 \tHP: 100.00% \tNormal // Dragon\n",
      "[4] Avalugg \tLv. 100 \tHP: 100.00% \tIce\n",
      "[5] Mega-Mewtwo-X \tLv. 100 \tHP: 100.00% \tPsychic // Fighting\n",
      "[6] Gardevoir \tLv. 100 \tHP: 100.00% \tPsychic // Fairy\n",
      "\n",
      "////////////////////////////////////////////////////////////////\n"
     ]
    }
   ],
   "source": [
    "print_party(p1)\n",
    "print_party(p2)"
   ]
  },
  {
   "cell_type": "code",
   "execution_count": 19,
   "id": "5e43a7dd",
   "metadata": {},
   "outputs": [
    {
     "name": "stdout",
     "output_type": "stream",
     "text": [
      "switch\n",
      "fight\n",
      "fight\n",
      "fight\n",
      "switch\n",
      "fight\n",
      "fight\n",
      "fight\n",
      "fight\n",
      "switch\n",
      "fight\n",
      "switch\n",
      "switch\n",
      "switch\n",
      "switch\n",
      "switch\n",
      "switch\n",
      "switch\n",
      "switch\n",
      "fight\n",
      "fight\n",
      "fight\n",
      "fight\n",
      "fight\n",
      "switch\n",
      "switch\n",
      "fight\n",
      "fight\n",
      "switch\n",
      "fight\n",
      "switch\n",
      "switch\n",
      "switch\n",
      "switch\n",
      "switch\n",
      "fight\n",
      "fight\n",
      "fight\n",
      "fight\n",
      "fight\n",
      "switch\n",
      "fight\n",
      "fight\n",
      "fight\n",
      "fight\n",
      "fight\n",
      "fight\n",
      "fight\n",
      "switch\n",
      "fight\n",
      "29\n",
      "21\n"
     ]
    }
   ],
   "source": [
    "p2[0].currenthpp = 19\n",
    "f, s = 0,0\n",
    "for i in range(50):\n",
    "    do = redd.fightswitch()\n",
    "    if do=='fight': f+=1\n",
    "    elif do=='switch': s+=1\n",
    "    print(do)\n",
    "print(f)\n",
    "print(s)"
   ]
  },
  {
   "cell_type": "code",
   "execution_count": 15,
   "id": "9deaf0f1",
   "metadata": {},
   "outputs": [
    {
     "data": {
      "text/plain": [
       "1.0"
      ]
     },
     "execution_count": 15,
     "metadata": {},
     "output_type": "execute_result"
    }
   ],
   "source": [
    "redd.typeAdvantage()"
   ]
  },
  {
   "cell_type": "code",
   "execution_count": 28,
   "id": "ede502c3",
   "metadata": {},
   "outputs": [
    {
     "name": "stdout",
     "output_type": "stream",
     "text": [
      "\n",
      "##########################  Pupitar  ###########################\n",
      "\n",
      "Level 100 \tRock // Ground \t(F)\n",
      "Nature : Naive | Up - Spe, Down - SpD\n",
      "HP  : \t305.00/305.00 \t100.00%\n",
      "Atk : \t250.00\n",
      "Def : \t163.00\n",
      "Sp.A: \t163.00\n",
      "Sp.D: \t157.50\n",
      "Spe : \t145.20\n",
      "\n",
      "######################  Pupitar's Moves  #######################\n",
      "\n",
      "[1] Leaf Blade\tGrass\t15/15 PP\n",
      "[2] Quick Attack\tNormal\t30/30 PP\n",
      "[3] Draco Meteor\tDragon\t5/5 PP\n",
      "[4] Shadow Claw\tGhost\t15/15 PP\n",
      "[5] Shadow Force\tGhost\t5/5 PP\n",
      "[6] Dig\tGround\t10/10 PP\n",
      "\n",
      "################################################################\n",
      "This Pokémon was initialized on\n",
      "=== Thu 22 Jun 2023 @ 00:00:36 UTC\n",
      "=== In the MST timezone.\n",
      "=== It was randomized by Boxes!\n",
      "################################################################\n"
     ]
    }
   ],
   "source": [
    "p2[0].summary()"
   ]
  },
  {
   "cell_type": "code",
   "execution_count": 35,
   "id": "1d898679",
   "metadata": {},
   "outputs": [
    {
     "name": "stdout",
     "output_type": "stream",
     "text": [
      "45.0\n",
      "(70.2, [1.2, 1.3])\n",
      "\n",
      "40.0\n",
      "(48.0, [1.2, 1.0])\n",
      "\n",
      "130.0\n",
      "(156.0, [1.2, 1.0])\n",
      "\n",
      "70.0\n",
      "(109.2, [1.2, 1.3])\n",
      "\n",
      "90.0\n",
      "(108.0, [1.2, 1.0])\n",
      "\n",
      "90.0\n",
      "(108.0, [1.2, 1.0])\n",
      "\n"
     ]
    }
   ],
   "source": [
    "\n",
    "for i in range(len(p2[0].knownMoves)):\n",
    "    print(redd.powerRating(p2[0],p2[0].knownMoves[i],p1[0]))\n",
    "    print(redd.damageMoveRating(p2[0],p2[0].knownMoves[i],p1[0],debug=True))\n",
    "    print(\"\")"
   ]
  },
  {
   "cell_type": "code",
   "execution_count": 34,
   "id": "8b90fbf5",
   "metadata": {},
   "outputs": [],
   "source": [
    "f1.lightscACounter=6\n",
    "f1.reflectACounter=0"
   ]
  },
  {
   "cell_type": "code",
   "execution_count": null,
   "id": "bdbe2e9b",
   "metadata": {},
   "outputs": [],
   "source": []
  }
 ],
 "metadata": {
  "kernelspec": {
   "display_name": "Python 3 (ipykernel)",
   "language": "python",
   "name": "python3"
  },
  "language_info": {
   "codemirror_mode": {
    "name": "ipython",
    "version": 3
   },
   "file_extension": ".py",
   "mimetype": "text/x-python",
   "name": "python",
   "nbconvert_exporter": "python",
   "pygments_lexer": "ipython3",
   "version": "3.10.6"
  }
 },
 "nbformat": 4,
 "nbformat_minor": 5
}
