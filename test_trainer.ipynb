{
 "cells": [
  {
   "cell_type": "code",
   "execution_count": 8,
   "id": "c29cf812",
   "metadata": {},
   "outputs": [],
   "source": [
    "from base_pokemon import *\n",
    "from trainerai import *\n",
    "from moves import mov"
   ]
  },
  {
   "cell_type": "code",
   "execution_count": 9,
   "id": "807fd72a",
   "metadata": {},
   "outputs": [],
   "source": [
    "p,f = maker(2,6,2)\n",
    "p1,p2 = p\n",
    "f1,f2 = f\n",
    "batt = battle(p1,p2,f1)\n",
    "redd = cpu(batt)"
   ]
  },
  {
   "cell_type": "code",
   "execution_count": 10,
   "id": "712137e4",
   "metadata": {},
   "outputs": [
    {
     "name": "stdout",
     "output_type": "stream",
     "text": [
      "\n",
      "////////////////////////////////////////////////////////////////\n",
      "//////////////////////// Party Pokémon /////////////////////////\n",
      "////////////////////////////////////////////////////////////////\n",
      "[1] Greninja \tLv. 100 \tHP: 100.00% \tWater // Dark\n",
      "[2] Gossifleur \tLv. 100 \tHP: 100.00% \tGrass\n",
      "[3] Grimmsnarl \tLv. 100 \tHP: 100.00% \tDark // Fairy\n",
      "[4] Thievul \tLv. 100 \tHP: 100.00% \tDark\n",
      "[5] Mesprit \tLv. 100 \tHP: 100.00% \tPsychic\n",
      "[6] Kangaskhan \tLv. 100 \tHP: 100.00% \tNormal\n",
      "\n",
      "////////////////////////////////////////////////////////////////\n",
      "\n",
      "////////////////////////////////////////////////////////////////\n",
      "//////////////////////// Party Pokémon /////////////////////////\n",
      "////////////////////////////////////////////////////////////////\n",
      "[1] Tapu Koko \tLv. 100 \tHP: 100.00% \tElectric // Fairy\n",
      "[2] Glaceon \tLv. 100 \tHP: 100.00% \tIce\n",
      "[3] Beartic \tLv. 100 \tHP: 100.00% \tIce\n",
      "[4] Deino \tLv. 100 \tHP: 100.00% \tDark // Dragon\n",
      "[5] Terrakion \tLv. 100 \tHP: 100.00% \tRock // Fighting\n",
      "[6] Blastoise \tLv. 100 \tHP: 100.00% \tWater\n",
      "\n",
      "////////////////////////////////////////////////////////////////\n"
     ]
    }
   ],
   "source": [
    "print_party(p1)\n",
    "print_party(p2)"
   ]
  },
  {
   "cell_type": "code",
   "execution_count": 11,
   "id": "e3aa712b",
   "metadata": {},
   "outputs": [
    {
     "name": "stdout",
     "output_type": "stream",
     "text": [
      "Hydro Pump\n",
      "Double-Edge\n",
      "Double-Edge\n",
      "Fire Blast\n",
      "Hydro Pump\n",
      "Fire Blast\n",
      "Double-Edge\n",
      "Fire Blast\n",
      "Double-Edge\n",
      "switching\n",
      "Hydro Pump\n",
      "Fire Blast\n",
      "Double-Edge\n",
      "Double-Edge\n",
      "Hydro Pump\n",
      "Double-Edge\n",
      "Double-Edge\n",
      "Mystical Fire\n",
      "Fire Blast\n",
      "Double-Edge\n",
      "Double-Edge\n",
      "Fire Blast\n",
      "Mystical Fire\n",
      "Hydro Pump\n",
      "Hex\n",
      "Fire Blast\n",
      "Double-Edge\n",
      "Double-Edge\n",
      "switching\n",
      "Hydro Pump\n"
     ]
    }
   ],
   "source": [
    "for i in range(30): redd.go()"
   ]
  },
  {
   "cell_type": "code",
   "execution_count": 14,
   "id": "003cb841",
   "metadata": {},
   "outputs": [
    {
     "name": "stdout",
     "output_type": "stream",
     "text": [
      "85.8\n",
      "85.8\n",
      "39.0\n",
      "144.0\n",
      "30.0\n",
      "45.0\n",
      "0.19972067039106142\n",
      "0.19972067039106142\n",
      "0.09078212290502793\n",
      "0.33519553072625696\n",
      "0.06983240223463687\n",
      "0.10474860335195531\n"
     ]
    }
   ],
   "source": [
    "l = []\n",
    "for i in range(len(p2[0].knownMoves)):\n",
    "    #print(redd.powerRating(p2[0],p2[0].knownMoves[i],p1[0]))\n",
    "    we = redd.damageMoveRating(p2[0].knownMoves[i],p2[0],p1[0],debug=False)**1\n",
    "    print(we)\n",
    "    l.append(we)\n",
    "wesum = sum(l)\n",
    "for i in range(len(l)):\n",
    "    print(l[i]/wesum)"
   ]
  },
  {
   "cell_type": "code",
   "execution_count": 13,
   "id": "bdb8774a",
   "metadata": {},
   "outputs": [
    {
     "name": "stdout",
     "output_type": "stream",
     "text": [
      "\n",
      "#########################  Tapu Koko  ##########################\n",
      "\n",
      "Level 100 \tElectric // Fairy \t(F)\n",
      "Nature : Relaxed | Up - Def, Down - Spe\n",
      "HP  : \t283.00/283.00 \t100.00%\n",
      "Atk : \t323.00\n",
      "Def : \t198.00\n",
      "Sp.A: \t234.00\n",
      "Sp.D: \t194.00\n",
      "Spe : \t266.40\n",
      "\n",
      "#####################  Tapu Koko's Moves  ######################\n",
      "\n",
      "[1] Fire Blast\tFire\t5/5 PP\n",
      "[2] Hydro Pump\tWater\t5/5 PP\n",
      "[3] Hex\tGhost\t10/10 PP\n",
      "[4] Double-Edge\tNormal\t15/15 PP\n",
      "[5] Flame Charge\tFire\t20/20 PP\n",
      "[6] Mystical Fire\tFire\t10/10 PP\n",
      "\n",
      "################################################################\n",
      "This Pokémon was initialized on\n",
      "=== Fri 23 Jun 2023 @ 17:57:27 UTC\n",
      "=== In the MST timezone.\n",
      "=== It was randomized by Boxes!\n",
      "################################################################\n"
     ]
    }
   ],
   "source": [
    "p2[0].summary()"
   ]
  },
  {
   "cell_type": "code",
   "execution_count": 5,
   "id": "5e43a7dd",
   "metadata": {},
   "outputs": [
    {
     "name": "stdout",
     "output_type": "stream",
     "text": [
      "fight fight fight switch switch fight switch switch fight switch switch fight switch fight fight switch switch switch switch switch fight fight fight fight switch switch fight switch switch switch fight fight fight fight fight fight fight fight fight switch fight switch fight fight switch switch fight fight fight switch \n",
      "28\n",
      "22\n"
     ]
    }
   ],
   "source": [
    "p2[0].currenthpp = 15\n",
    "f, s = 0,0\n",
    "for i in range(50):\n",
    "    do = redd.fightswitch()\n",
    "    if do=='fight': f+=1\n",
    "    elif do=='switch': s+=1\n",
    "    print(do,end=' ')\n",
    "print(\"\")\n",
    "print(f)\n",
    "print(s)"
   ]
  },
  {
   "cell_type": "code",
   "execution_count": 6,
   "id": "9deaf0f1",
   "metadata": {},
   "outputs": [
    {
     "data": {
      "text/plain": [
       "2.0"
      ]
     },
     "execution_count": 6,
     "metadata": {},
     "output_type": "execute_result"
    }
   ],
   "source": [
    "redd.typeAdvantage()"
   ]
  },
  {
   "cell_type": "code",
   "execution_count": 24,
   "id": "cbbc3963",
   "metadata": {},
   "outputs": [],
   "source": [
    "f1.lightscACounter=6\n",
    "f1.reflectACounter=0"
   ]
  },
  {
   "cell_type": "code",
   "execution_count": 30,
   "id": "ec6a87aa",
   "metadata": {},
   "outputs": [
    {
     "name": "stdout",
     "output_type": "stream",
     "text": [
      "Bellsprout\n"
     ]
    }
   ],
   "source": [
    "redd.test1()"
   ]
  },
  {
   "cell_type": "code",
   "execution_count": 53,
   "id": "e5bf9f09",
   "metadata": {},
   "outputs": [
    {
     "name": "stdout",
     "output_type": "stream",
     "text": [
      "\n",
      "###########################  Lapras  ###########################\n",
      "\n",
      "Level 100 \tWater // Ice \t(F)\n",
      "Nature : Modest | Up - SpA, Down - Atk\n",
      "HP  : \t433.00/433.00 \t100.00%\n",
      "Atk : \t211.50\n",
      "Def : \t196.00\n",
      "Sp.A: \t243.10\n",
      "Sp.D: \t230.00\n",
      "Spe : \t151.00\n",
      "\n",
      "#######################  Lapras's Moves  #######################\n",
      "\n",
      "[1] Mystical Fire\tFire\t10/10 PP\n",
      "[2] Storm Throw\tFighting\t10/10 PP\n",
      "[3] Gust\tFlying\t35/35 PP\n",
      "[4] Water Pulse\tWater\t20/20 PP\n",
      "[5] Brick Break\tFighting\t15/15 PP\n",
      "[6] Stomp\tNormal\t20/20 PP\n",
      "\n",
      "################################################################\n",
      "This Pokémon was initialized on\n",
      "=== Thu 22 Jun 2023 @ 16:38:19 UTC\n",
      "=== In the MST timezone.\n",
      "=== It was randomized by Boxes!\n",
      "################################################################\n"
     ]
    }
   ],
   "source": [
    "monn = p1[5]\n",
    "monn.summary()"
   ]
  },
  {
   "cell_type": "code",
   "execution_count": 54,
   "id": "a5acdaf4",
   "metadata": {},
   "outputs": [
    {
     "name": "stdout",
     "output_type": "stream",
     "text": [
      "[1, 0, 1, 1, 0, 0]\n"
     ]
    }
   ],
   "source": [
    "she = [ mov[monn.knownMoves[i]]['special?'] for i in range(len(monn.knownMoves))]\n",
    "print(she)"
   ]
  },
  {
   "cell_type": "code",
   "execution_count": 58,
   "id": "c66a446e",
   "metadata": {},
   "outputs": [
    {
     "name": "stdout",
     "output_type": "stream",
     "text": [
      "0\n"
     ]
    },
    {
     "data": {
      "text/plain": [
       "array([0, 1, 2, 3, 4, 5])"
      ]
     },
     "execution_count": 58,
     "metadata": {},
     "output_type": "execute_result"
    }
   ],
   "source": [
    "specials = mov[monn.knownMoves]['special?']\n",
    "speciali = np.argwhere(specials == 2)\n",
    "print(len(np.squeeze(speciali)))\n",
    "np.squeeze(np.argwhere(np.logical_or(specials==0,specials==1)))"
   ]
  },
  {
   "cell_type": "code",
   "execution_count": null,
   "id": "65031f53",
   "metadata": {},
   "outputs": [],
   "source": []
  }
 ],
 "metadata": {
  "kernelspec": {
   "display_name": "Python 3 (ipykernel)",
   "language": "python",
   "name": "python3"
  },
  "language_info": {
   "codemirror_mode": {
    "name": "ipython",
    "version": 3
   },
   "file_extension": ".py",
   "mimetype": "text/x-python",
   "name": "python",
   "nbconvert_exporter": "python",
   "pygments_lexer": "ipython3",
   "version": "3.10.6"
  }
 },
 "nbformat": 4,
 "nbformat_minor": 5
}
