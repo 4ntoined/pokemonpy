{
 "cells": [
  {
   "cell_type": "code",
   "execution_count": 1,
   "id": "c29cf812",
   "metadata": {},
   "outputs": [],
   "source": [
    "from base_pokemon import *\n",
    "from trainerai import *\n",
    "from moves import mov"
   ]
  },
  {
   "cell_type": "code",
   "execution_count": 2,
   "id": "807fd72a",
   "metadata": {},
   "outputs": [],
   "source": [
    "p,f = maker(2,6,2)\n",
    "p1,p2 = p\n",
    "f1,f2 = f\n",
    "batt = battle(p1,p2,f1)\n",
    "redd = cpu(batt)"
   ]
  },
  {
   "cell_type": "code",
   "execution_count": 3,
   "id": "712137e4",
   "metadata": {},
   "outputs": [
    {
     "name": "stdout",
     "output_type": "stream",
     "text": [
      "\n",
      "////////////////////////////////////////////////////////////////\n",
      "//////////////////////// Party Pokémon /////////////////////////\n",
      "////////////////////////////////////////////////////////////////\n",
      "[1] Deino \tLv. 100 \tHP: 100.00% \tDark // Dragon\n",
      "[2] Tympole \tLv. 100 \tHP: 100.00% \tWater\n",
      "[3] Eelektross \tLv. 100 \tHP: 100.00% \tElectric\n",
      "[4] Ivysaur \tLv. 100 \tHP: 100.00% \tGrass // Poison\n",
      "[5] Walrein \tLv. 100 \tHP: 100.00% \tIce // Water\n",
      "[6] Minior \tLv. 100 \tHP: 100.00% \tRock // Flying\n",
      "\n",
      "////////////////////////////////////////////////////////////////\n",
      "\n",
      "////////////////////////////////////////////////////////////////\n",
      "//////////////////////// Party Pokémon /////////////////////////\n",
      "////////////////////////////////////////////////////////////////\n",
      "[1] Heracross \tLv. 100 \tHP: 100.00% \tBug // Fighting\n",
      "[2] Snover \tLv. 100 \tHP: 100.00% \tGrass // Ice\n",
      "[3] Gothitelle \tLv. 100 \tHP: 100.00% \tPsychic\n",
      "[4] Lilligant \tLv. 100 \tHP: 100.00% \tGrass\n",
      "[5] Araquanid \tLv. 100 \tHP: 100.00% \tWater // Bug\n",
      "[6] Inteleon \tLv. 100 \tHP: 100.00% \tWater\n",
      "\n",
      "////////////////////////////////////////////////////////////////\n"
     ]
    }
   ],
   "source": [
    "print_party(p1)\n",
    "print_party(p2)"
   ]
  },
  {
   "cell_type": "code",
   "execution_count": 6,
   "id": "469d537f",
   "metadata": {},
   "outputs": [
    {
     "name": "stdout",
     "output_type": "stream",
     "text": [
      "Aeroblast\n",
      "Sandstorm\n",
      "Max Ooze (S)\n",
      "switching\n",
      "Headbutt\n",
      "Headbutt\n",
      "Headbutt\n",
      "Aeroblast\n",
      "Aeroblast\n",
      "Aeroblast\n",
      "Spikes\n",
      "Max Ooze (S)\n",
      "Spikes\n",
      "Aeroblast\n",
      "Spikes\n",
      "Aeroblast\n",
      "switching\n",
      "Headbutt\n",
      "Max Ooze (S)\n",
      "Max Ooze (S)\n",
      "Geomancy\n",
      "Aeroblast\n",
      "Aeroblast\n",
      "Aeroblast\n",
      "Aeroblast\n",
      "Sandstorm\n",
      "Max Ooze (S)\n",
      "Max Ooze (S)\n",
      "Spikes\n",
      "Aeroblast\n"
     ]
    }
   ],
   "source": [
    "for i in range(30): redd.go()"
   ]
  },
  {
   "cell_type": "code",
   "execution_count": 5,
   "id": "003cb841",
   "metadata": {},
   "outputs": [
    {
     "name": "stdout",
     "output_type": "stream",
     "text": [
      "120.0\n",
      "120.0\n",
      "202.8\n",
      "62.400000000000006\n",
      "168.0\n",
      "140.4\n",
      "0.14749262536873156\n",
      "0.14749262536873156\n",
      "0.24926253687315636\n",
      "0.07669616519174041\n",
      "0.20648967551622419\n",
      "0.17256637168141592\n"
     ]
    }
   ],
   "source": [
    "l = []\n",
    "for i in range(len(p2[0].knownMoves)):\n",
    "    #print(redd.powerRating(p2[0],p2[0].knownMoves[i],p1[0]))\n",
    "    we = redd.damageMoveRating(p2[0].knownMoves[i],p2[0],p1[0],debug=False)**1\n",
    "    print(we)\n",
    "    l.append(we)\n",
    "wesum = sum(l)\n",
    "for i in range(len(l)):\n",
    "    print(l[i]/wesum)"
   ]
  },
  {
   "cell_type": "code",
   "execution_count": 4,
   "id": "bdb8774a",
   "metadata": {},
   "outputs": [
    {
     "name": "stdout",
     "output_type": "stream",
     "text": [
      "\n",
      "#########################  Heracross  ##########################\n",
      "\n",
      "Level 100 \tBug // Fighting \t(N)\n",
      "Nature : Sassy | Up - SpD, Down - Spe\n",
      "HP  : \t318.00/318.00 \t100.00%\n",
      "Atk : \t322.00\n",
      "Def : \t220.00\n",
      "Sp.A: \t116.00\n",
      "Sp.D: \t234.30\n",
      "Spe : \t182.70\n",
      "\n",
      "#####################  Heracross's Moves  ######################\n",
      "\n",
      "[1] Headbutt\tNormal\t15/15 PP\n",
      "[2] Aeroblast\tFlying\t5/5 PP\n",
      "[3] Geomancy\tFairy\t10/10 PP\n",
      "[4] Spikes\tGround\t20/20 PP\n",
      "[5] Max Ooze (S)\tPoison\t3/3 PP\n",
      "[6] Sandstorm\tRock\t5/5 PP\n",
      "\n",
      "################################################################\n",
      "This Pokémon was initialized on\n",
      "=== Sat 30 Sep 2023 @ 19:21:05 UTC\n",
      "=== In the EDT timezone.\n",
      "=== It was randomized by Boxes!\n",
      "################################################################\n"
     ]
    }
   ],
   "source": [
    "p2[0].summary()"
   ]
  },
  {
   "cell_type": "code",
   "execution_count": 7,
   "id": "5e43a7dd",
   "metadata": {},
   "outputs": [
    {
     "name": "stdout",
     "output_type": "stream",
     "text": [
      "switch fight switch switch switch switch fight fight fight fight fight fight fight switch fight fight switch fight fight switch switch fight switch fight switch fight fight switch fight fight fight switch fight fight switch fight fight switch switch switch fight switch switch switch switch fight fight switch switch switch \n",
      "26\n",
      "24\n"
     ]
    }
   ],
   "source": [
    "p2[0].currenthpp = 15\n",
    "f, s = 0,0\n",
    "for i in range(50):\n",
    "    do = redd.fightswitch()\n",
    "    if do=='fight': f+=1\n",
    "    elif do=='switch': s+=1\n",
    "    print(do,end=' ')\n",
    "print(\"\")\n",
    "print(f)\n",
    "print(s)"
   ]
  },
  {
   "cell_type": "code",
   "execution_count": 6,
   "id": "9deaf0f1",
   "metadata": {},
   "outputs": [
    {
     "data": {
      "text/plain": [
       "2.0"
      ]
     },
     "execution_count": 6,
     "metadata": {},
     "output_type": "execute_result"
    }
   ],
   "source": [
    "redd.typeAdvantage()"
   ]
  },
  {
   "cell_type": "code",
   "execution_count": 24,
   "id": "cbbc3963",
   "metadata": {},
   "outputs": [],
   "source": [
    "f1.lightscACounter=6\n",
    "f1.reflectACounter=0"
   ]
  },
  {
   "cell_type": "code",
   "execution_count": 30,
   "id": "ec6a87aa",
   "metadata": {},
   "outputs": [
    {
     "name": "stdout",
     "output_type": "stream",
     "text": [
      "Bellsprout\n"
     ]
    }
   ],
   "source": [
    "redd.test1()"
   ]
  },
  {
   "cell_type": "code",
   "execution_count": 53,
   "id": "e5bf9f09",
   "metadata": {},
   "outputs": [
    {
     "name": "stdout",
     "output_type": "stream",
     "text": [
      "\n",
      "###########################  Lapras  ###########################\n",
      "\n",
      "Level 100 \tWater // Ice \t(F)\n",
      "Nature : Modest | Up - SpA, Down - Atk\n",
      "HP  : \t433.00/433.00 \t100.00%\n",
      "Atk : \t211.50\n",
      "Def : \t196.00\n",
      "Sp.A: \t243.10\n",
      "Sp.D: \t230.00\n",
      "Spe : \t151.00\n",
      "\n",
      "#######################  Lapras's Moves  #######################\n",
      "\n",
      "[1] Mystical Fire\tFire\t10/10 PP\n",
      "[2] Storm Throw\tFighting\t10/10 PP\n",
      "[3] Gust\tFlying\t35/35 PP\n",
      "[4] Water Pulse\tWater\t20/20 PP\n",
      "[5] Brick Break\tFighting\t15/15 PP\n",
      "[6] Stomp\tNormal\t20/20 PP\n",
      "\n",
      "################################################################\n",
      "This Pokémon was initialized on\n",
      "=== Thu 22 Jun 2023 @ 16:38:19 UTC\n",
      "=== In the MST timezone.\n",
      "=== It was randomized by Boxes!\n",
      "################################################################\n"
     ]
    }
   ],
   "source": [
    "monn = p1[5]\n",
    "monn.summary()"
   ]
  },
  {
   "cell_type": "code",
   "execution_count": 54,
   "id": "74b5107e",
   "metadata": {},
   "outputs": [
    {
     "name": "stdout",
     "output_type": "stream",
     "text": [
      "[1, 0, 1, 1, 0, 0]\n"
     ]
    }
   ],
   "source": [
    "she = [ mov[monn.knownMoves[i]]['special?'] for i in range(len(monn.knownMoves))]\n",
    "print(she)"
   ]
  },
  {
   "cell_type": "code",
   "execution_count": 58,
   "id": "2349061b",
   "metadata": {},
   "outputs": [
    {
     "name": "stdout",
     "output_type": "stream",
     "text": [
      "0\n"
     ]
    },
    {
     "data": {
      "text/plain": [
       "array([0, 1, 2, 3, 4, 5])"
      ]
     },
     "execution_count": 58,
     "metadata": {},
     "output_type": "execute_result"
    }
   ],
   "source": [
    "specials = mov[monn.knownMoves]['special?']\n",
    "speciali = np.argwhere(specials == 2)\n",
    "print(len(np.squeeze(speciali)))\n",
    "np.squeeze(np.argwhere(np.logical_or(specials==0,specials==1)))"
   ]
  },
  {
   "cell_type": "code",
   "execution_count": null,
   "id": "adc5e43e",
   "metadata": {},
   "outputs": [],
   "source": []
  }
 ],
 "metadata": {
  "kernelspec": {
   "display_name": "Python 3 (ipykernel)",
   "language": "python",
   "name": "python3"
  },
  "language_info": {
   "codemirror_mode": {
    "name": "ipython",
    "version": 3
   },
   "file_extension": ".py",
   "mimetype": "text/x-python",
   "name": "python",
   "nbconvert_exporter": "python",
   "pygments_lexer": "ipython3",
   "version": "3.11.5"
  }
 },
 "nbformat": 4,
 "nbformat_minor": 5
}
