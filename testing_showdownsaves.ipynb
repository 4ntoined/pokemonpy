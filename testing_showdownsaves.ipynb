{
 "cells": [
  {
   "cell_type": "code",
   "execution_count": 1,
   "id": "1cfcb3ed",
   "metadata": {},
   "outputs": [],
   "source": [
    "import numpy as np"
   ]
  },
  {
   "cell_type": "code",
   "execution_count": 2,
   "id": "91511556",
   "metadata": {},
   "outputs": [],
   "source": [
    "with open('showdown.sav' ,'r') as fil:\n",
    "    all_lines = fil.read()\n",
    "    #while fil.readline\n",
    "    #this_poke = []\n",
    "    #this_poke fil.readline\n",
    "with open('show2.sav' ,'r') as fil:\n",
    "    lines= [ i for i in fil]"
   ]
  },
  {
   "cell_type": "code",
   "execution_count": 3,
   "id": "1dcfd423",
   "metadata": {},
   "outputs": [],
   "source": [
    "pokes = []\n",
    "this_poke = []\n",
    "for i in range(len(lines)):\n",
    "    if lines[i] != '\\n':\n",
    "        this_poke.append( lines[i] )\n",
    "    if lines[i] == '\\n':\n",
    "        pokes.append(this_poke)\n",
    "        this_poke = []\n",
    "    #print(lines[i])\n",
    "n_poke = len(pokes)"
   ]
  },
  {
   "cell_type": "code",
   "execution_count": 4,
   "id": "77f3ce30",
   "metadata": {},
   "outputs": [
    {
     "name": "stdout",
     "output_type": "stream",
     "text": [
      "['Calyrex-Ice @ Aguav Berry  \\n', 'Ability: As One (Glastrier)  \\n', 'EVs: 108 HP / 100 Atk / 56 SpA / 68 SpD / 68 Spe  \\n', 'Naive Nature  \\n', 'IVs: 21 HP / 0 SpA / 17 Spe  \\n', '- Agility  \\n', '- Baton Pass  \\n', '- Body Slam  \\n', '- Double-Edge  \\n'] \n",
      "\n",
      " ['Ninetales-Alola (F) @ Expert Belt  \\n', 'Ability: Snow Warning  \\n', 'EVs: 40 HP / 40 Atk / 92 Def / 92 SpA / 92 SpD / 56 Spe  \\n', 'IVs: 0 Atk  \\n', '- Calm Mind  \\n', '- Encore  \\n', '- Blizzard  \\n', '- Extrasensory  \\n'] \n",
      "\n",
      " ['miin (Cinderace) (F) @ Focus Sash  \\n', 'Ability: Libero  \\n', 'Shiny: Yes  \\n', 'EVs: 48 HP / 108 Atk / 92 Def / 104 SpA / 88 SpD / 68 Spe  \\n', '- Court Change  \\n', '- Blaze Kick  \\n', '- Fire Blast  \\n', '- Flame Charge  \\n']\n"
     ]
    }
   ],
   "source": [
    "print(pokes[0],'\\n\\n',pokes[1],'\\n\\n',pokes[2])"
   ]
  },
  {
   "cell_type": "code",
   "execution_count": 9,
   "id": "783a3671",
   "metadata": {},
   "outputs": [
    {
     "name": "stdout",
     "output_type": "stream",
     "text": [
      "['Calyrex-Ice', '@', 'Aguav', 'Berry']\n",
      "['Ninetales-Alola', '(F)', '@', 'Expert', 'Belt']\n"
     ]
    }
   ],
   "source": [
    "poke1 = pokes[0]\n",
    "print(poke1[0].split( ))\n",
    "poke2 = pokes[1]\n",
    "print(poke2[0].split( ))\n",
    "poke3 = pokes[2]\n",
    "liner = poke3[0].split( )\n",
    "poke4 = pokes[3]\n",
    "liner = poke4[0].split( )"
   ]
  },
  {
   "cell_type": "code",
   "execution_count": 10,
   "id": "e17e4215",
   "metadata": {},
   "outputs": [
    {
     "data": {
      "text/plain": [
       "['Conkeldurr']"
      ]
     },
     "execution_count": 10,
     "metadata": {},
     "output_type": "execute_result"
    }
   ],
   "source": [
    "we = np.argwhere( np.array(poke3[0].split(), dtype='U64') == '@')\n",
    "liner"
   ]
  },
  {
   "cell_type": "code",
   "execution_count": 14,
   "id": "189d1718",
   "metadata": {},
   "outputs": [
    {
     "data": {
      "text/plain": [
       "['Conkeldurr  \\n',\n",
       " 'Ability: Guts  \\n',\n",
       " 'Level: 64  \\n',\n",
       " 'EVs: 64 HP / 4 Atk / 128 SpA / 132 SpD / 180 Spe  \\n',\n",
       " 'Hardy Nature  \\n',\n",
       " 'IVs: 2 Atk / 0 Def  \\n',\n",
       " '- Brick Break  \\n',\n",
       " '- Defog  \\n',\n",
       " '- Earthquake  \\n',\n",
       " '- Focus Blast  \\n']"
      ]
     },
     "execution_count": 14,
     "metadata": {},
     "output_type": "execute_result"
    }
   ],
   "source": [
    "poke4"
   ]
  },
  {
   "cell_type": "code",
   "execution_count": 12,
   "id": "ad731f55",
   "metadata": {},
   "outputs": [
    {
     "data": {
      "text/plain": [
       "True"
      ]
     },
     "execution_count": 12,
     "metadata": {},
     "output_type": "execute_result"
    }
   ],
   "source": [
    "#no nature means Serious Nature\n",
    "not ''\n"
   ]
  },
  {
   "cell_type": "code",
   "execution_count": 22,
   "id": "a9b94136",
   "metadata": {},
   "outputs": [
    {
     "name": "stdout",
     "output_type": "stream",
     "text": [
      "['62' '0' '0' '252' '0' '0']\n"
     ]
    }
   ],
   "source": [
    "evs = ['62','','','252','','']\n",
    "evs_a = np.array(evs,dtype=object)\n",
    "evs_b = np.where(evs_a=='',0,evs)\n",
    "print(evs_b)"
   ]
  },
  {
   "cell_type": "code",
   "execution_count": 17,
   "id": "1eb2f7a3",
   "metadata": {},
   "outputs": [
    {
     "data": {
      "text/plain": [
       "array([1, 2, 4, 5])"
      ]
     },
     "execution_count": 17,
     "metadata": {},
     "output_type": "execute_result"
    }
   ],
   "source": [
    "np.squeeze(np.argwhere( evs_a == ''))"
   ]
  },
  {
   "cell_type": "code",
   "execution_count": null,
   "id": "476b019c",
   "metadata": {},
   "outputs": [],
   "source": []
  }
 ],
 "metadata": {
  "kernelspec": {
   "display_name": "Python 3 (ipykernel)",
   "language": "python",
   "name": "python3"
  },
  "language_info": {
   "codemirror_mode": {
    "name": "ipython",
    "version": 3
   },
   "file_extension": ".py",
   "mimetype": "text/x-python",
   "name": "python",
   "nbconvert_exporter": "python",
   "pygments_lexer": "ipython3",
   "version": "3.10.6"
  }
 },
 "nbformat": 4,
 "nbformat_minor": 5
}
