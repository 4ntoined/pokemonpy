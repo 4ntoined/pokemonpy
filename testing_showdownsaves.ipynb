{
 "cells": [
  {
   "cell_type": "code",
   "execution_count": null,
   "id": "1cfcb3ed",
   "metadata": {},
   "outputs": [],
   "source": [
    "import numpy as np"
   ]
  },
  {
   "cell_type": "code",
   "execution_count": null,
   "id": "91511556",
   "metadata": {},
   "outputs": [],
   "source": [
    "with open('showdown.sav' ,'r') as fil:\n",
    "    all_lines = fil.read()\n",
    "    #while fil.readline\n",
    "    #this_poke = []\n",
    "    #this_poke fil.readline\n",
    "with open('show2.sav' ,'r') as fil:\n",
    "    lines= [ i for i in fil]"
   ]
  },
  {
   "cell_type": "code",
   "execution_count": null,
   "id": "1dcfd423",
   "metadata": {},
   "outputs": [],
   "source": [
    "pokes = []\n",
    "this_poke = []\n",
    "for i in range(len(lines)):\n",
    "    if lines[i] != '\\n':\n",
    "        this_poke.append( lines[i] )\n",
    "    if lines[i] == '\\n':\n",
    "        pokes.append(this_poke)\n",
    "        this_poke = []\n",
    "    #print(lines[i])\n",
    "n_poke = len(pokes)"
   ]
  },
  {
   "cell_type": "code",
   "execution_count": null,
   "id": "77f3ce30",
   "metadata": {},
   "outputs": [],
   "source": [
    "print(pokes[0],'\\n\\n',pokes[1],'\\n\\n',pokes[2])"
   ]
  },
  {
   "cell_type": "code",
   "execution_count": null,
   "id": "783a3671",
   "metadata": {},
   "outputs": [],
   "source": [
    "poke1 = pokes[0]\n",
    "print(poke1[0].split( ))\n",
    "poke2 = pokes[1]\n",
    "print(poke2[0].split( ))\n",
    "poke3 = pokes[2]\n",
    "liner = poke3[0].split( )\n",
    "poke4 = pokes[3]\n",
    "liner = poke4[0].split( )"
   ]
  },
  {
   "cell_type": "code",
   "execution_count": null,
   "id": "e17e4215",
   "metadata": {},
   "outputs": [],
   "source": [
    "we = np.argwhere( np.array(poke3[0].split(), dtype='U64') == '@')\n",
    "liner"
   ]
  },
  {
   "cell_type": "code",
   "execution_count": null,
   "id": "189d1718",
   "metadata": {},
   "outputs": [],
   "source": [
    "poke4"
   ]
  },
  {
   "cell_type": "code",
   "execution_count": null,
   "id": "9da752c1",
   "metadata": {},
   "outputs": [],
   "source": [
    "lv = poke4[2]\n",
    "lv = lv[7:]\n",
    "int( float(lv) )"
   ]
  },
  {
   "cell_type": "code",
   "execution_count": null,
   "id": "bc681aa1",
   "metadata": {},
   "outputs": [],
   "source": [
    "nat = poke4[4]\n",
    "print(nat.split()[0])"
   ]
  },
  {
   "cell_type": "code",
   "execution_count": null,
   "id": "8e2e061b",
   "metadata": {},
   "outputs": [],
   "source": [
    "mov = poke4[7]\n",
    "mov[2:].split('  \\n')[0] == 'Defog'"
   ]
  },
  {
   "cell_type": "code",
   "execution_count": null,
   "id": "ad731f55",
   "metadata": {},
   "outputs": [],
   "source": [
    "evs = poke4[3]\n",
    "en = evs[5:]\n",
    "#print( en.split(' / ') )\n",
    "shee = en.split(' / ')\n",
    "#print(shee)\n",
    "fre = ['HP','Atk','Def','SpA','SpD','Spe']\n",
    "stt = enumerate(['HP','Atk','Def','SpA','SpD','Spe'])\n",
    "st = list(stt)\n",
    "print(shee)\n",
    "print(st[1][1])\n",
    "#for i in st:\n",
    "#    if i[1] in en.split(' / ')[1]: print(i[0])"
   ]
  },
  {
   "cell_type": "code",
   "execution_count": null,
   "id": "936cd225",
   "metadata": {},
   "outputs": [],
   "source": [
    "doo = np.char.split( np.array(shee,dtype=str) )\n",
    "np.argwhere( np.isin(fre, doo) )\n"
   ]
  },
  {
   "cell_type": "code",
   "execution_count": null,
   "id": "1b03905a",
   "metadata": {},
   "outputs": [],
   "source": [
    "dicts = dict([('HP',0),('Atk',1),('Def',2),('SpA',3),('SpD',4),('Spe',5)])\n",
    "dicts['Atk']"
   ]
  },
  {
   "cell_type": "code",
   "execution_count": null,
   "id": "774d2312",
   "metadata": {},
   "outputs": [],
   "source": [
    "empt = ['','','','','','']\n",
    "for i in range(len(shee)):\n",
    "    #print(i)\n",
    "    #ii = shee[i].split(' ')\n",
    "    if shee[i].split(' ')[1] in fre: empt[dicts[shee[i].split(' ')[1]]] = shee[i].split(' ')[0]\n",
    "print(empt)"
   ]
  },
  {
   "cell_type": "code",
   "execution_count": null,
   "id": "95c5be07",
   "metadata": {},
   "outputs": [],
   "source": [
    "moves = []\n",
    "not moves"
   ]
  },
  {
   "cell_type": "code",
   "execution_count": null,
   "id": "476b019c",
   "metadata": {},
   "outputs": [],
   "source": [
    "print(en)\n",
    "def evsss(line):\n",
    "    line_ = line.split(' / ')\n",
    "    \n",
    "    ans = \n",
    "    return ans\n",
    "print(evsss(en))"
   ]
  },
  {
   "cell_type": "code",
   "execution_count": null,
   "id": "2fe92ff1",
   "metadata": {},
   "outputs": [],
   "source": [
    "data_arr = np.array(shee, dtype=str)\n",
    "base_arr = np.array(fre, dtype=str)\n",
    "\n",
    "\n",
    "#print(data_arr, base_arr)\n",
    "#base2 =np.char.split(data_arr)\n",
    "#print(base2)\n",
    "#np.isin(  )\n",
    "#print(data_arr)\n",
    "#np.isin( data_arr, base_arr)\n",
    "#np.where( np.isin(data_arr, shee),  )"
   ]
  },
  {
   "cell_type": "code",
   "execution_count": null,
   "id": "3a2ef33c",
   "metadata": {},
   "outputs": [],
   "source": [
    "we1 = np.where( shee in  , )"
   ]
  },
  {
   "cell_type": "code",
   "execution_count": null,
   "id": "a9b94136",
   "metadata": {},
   "outputs": [],
   "source": [
    "evs = ['62','','','252','','']\n",
    "evs_a = np.array(evs,dtype=object)\n",
    "evs_b = np.where(evs_a=='',0,evs)\n",
    "print(evs_b)"
   ]
  },
  {
   "cell_type": "code",
   "execution_count": null,
   "id": "1eb2f7a3",
   "metadata": {},
   "outputs": [],
   "source": [
    "np.squeeze(np.argwhere( evs_a == ''))"
   ]
  },
  {
   "cell_type": "code",
   "execution_count": null,
   "id": "64ce2699",
   "metadata": {},
   "outputs": [],
   "source": [
    "from moves import natures\n",
    "we = np.argwhere( natures=='Gentle' )\n",
    "wee = np.squeeze(we)\n",
    "natures[wee[0],wee[1]]"
   ]
  },
  {
   "cell_type": "code",
   "execution_count": null,
   "id": "d927afbd",
   "metadata": {},
   "outputs": [],
   "source": [
    "from moves import mov\n",
    "from dexpoke import dex\n",
    "mov['name']\n",
    "dex['name']"
   ]
  },
  {
   "cell_type": "code",
   "execution_count": null,
   "id": "dc8d45a9",
   "metadata": {},
   "outputs": [],
   "source": [
    "int( np.argwhere( dex['name'] == 'Conkeldurr') )"
   ]
  },
  {
   "cell_type": "code",
   "execution_count": null,
   "id": "cf985c08",
   "metadata": {},
   "outputs": [],
   "source": [
    "\"tackle\" in mov['name']"
   ]
  },
  {
   "cell_type": "code",
   "execution_count": 1,
   "id": "30a640f8",
   "metadata": {},
   "outputs": [],
   "source": [
    "from base_pokemon import loadShowdown"
   ]
  },
  {
   "cell_type": "code",
   "execution_count": 2,
   "id": "94451d3e",
   "metadata": {},
   "outputs": [
    {
     "name": "stdout",
     "output_type": "stream",
     "text": [
      "['miin', '(Cinderace)', '(F)']\n",
      "['Conkeldurr']\n"
     ]
    }
   ],
   "source": [
    "we = loadShowdown('show3.sav')"
   ]
  },
  {
   "cell_type": "code",
   "execution_count": 3,
   "id": "a7fca552",
   "metadata": {},
   "outputs": [
    {
     "name": "stdout",
     "output_type": "stream",
     "text": [
      "\n",
      "############ miin ############\n",
      "\n",
      "Level 100 \tFire\n",
      "Nature : Serious | Up - None, Down - None\n",
      "HP  : \t313.00/313.00 \t100.00%\n",
      "Atk : \t295.00\n",
      "Def : \t209.00\n",
      "Sp.A: \t192.00\n",
      "Sp.D: \t208.00\n",
      "Spe : \t291.00\n",
      "############ miin's Moves #############\n",
      "[1] Fire Blast\tFire\t5/5 PP\n",
      "##############################################\n",
      "This Pokemon was initialized on\n",
      "=== Wed 03 May 2023 @ 20:25:16 UTC\n",
      "=== In the EDT timezone.\n",
      "=== It was made in Pokemon Showdown!\n",
      "##############################################\n",
      "\n",
      "############ Conkeldurr ############\n",
      "\n",
      "Level 64 \tFighting\n",
      "Nature : Hardy | Up - None, Down - None\n",
      "HP  : \t238.00/238.00 \t100.00%\n",
      "Atk : \t186.12\n",
      "Def : \t126.60\n",
      "Sp.A: \t115.72\n",
      "Sp.D: \t129.16\n",
      "Spe : \t111.24\n",
      "############ Conkeldurr's Moves #############\n",
      "[1] Brick Break\tFighting\t15/15 PP\n",
      "[2] Earthquake\tGround\t10/10 PP\n",
      "[3] Focus Blast\tFighting\t5/5 PP\n",
      "##############################################\n",
      "This Pokemon was initialized on\n",
      "=== Wed 03 May 2023 @ 20:25:16 UTC\n",
      "=== In the EDT timezone.\n",
      "=== It was made in Pokemon Showdown!\n",
      "##############################################\n"
     ]
    }
   ],
   "source": [
    "for i in we: i.summary()"
   ]
  },
  {
   "cell_type": "code",
   "execution_count": null,
   "id": "0ae62467",
   "metadata": {},
   "outputs": [],
   "source": []
  },
  {
   "cell_type": "code",
   "execution_count": null,
   "id": "ba385fb3",
   "metadata": {},
   "outputs": [],
   "source": []
  }
 ],
 "metadata": {
  "kernelspec": {
   "display_name": "Python 3 (ipykernel)",
   "language": "python",
   "name": "python3"
  },
  "language_info": {
   "codemirror_mode": {
    "name": "ipython",
    "version": 3
   },
   "file_extension": ".py",
   "mimetype": "text/x-python",
   "name": "python",
   "nbconvert_exporter": "python",
   "pygments_lexer": "ipython3",
   "version": "3.10.6"
  }
 },
 "nbformat": 4,
 "nbformat_minor": 5
}
